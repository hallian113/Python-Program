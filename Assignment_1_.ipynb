{
  "nbformat": 4,
  "nbformat_minor": 0,
  "metadata": {
    "colab": {
      "provenance": []
    },
    "kernelspec": {
      "name": "python3",
      "display_name": "Python 3"
    },
    "language_info": {
      "name": "python"
    }
  },
  "cells": [
    {
      "cell_type": "code",
      "source": [
        "print(\"My Loving Student best for luck\")"
      ],
      "metadata": {
        "colab": {
          "base_uri": "https://localhost:8080/"
        },
        "id": "U-XYRlIcBR7M",
        "outputId": "0f6d885e-8221-4fbc-c8a1-42cbf6aec825"
      },
      "execution_count": null,
      "outputs": [
        {
          "output_type": "stream",
          "name": "stdout",
          "text": [
            "My Loving Student best for luck\n"
          ]
        }
      ]
    },
    {
      "cell_type": "code",
      "source": [
        "#print hello world\n",
        "print(\"Hello , World\")"
      ],
      "metadata": {
        "colab": {
          "base_uri": "https://localhost:8080/"
        },
        "id": "y4ejlsfgByOC",
        "outputId": "ed3c9246-b69a-49af-b3bb-076ac642a475"
      },
      "execution_count": null,
      "outputs": [
        {
          "output_type": "stream",
          "name": "stdout",
          "text": [
            "Hello , World\n"
          ]
        }
      ]
    },
    {
      "cell_type": "code",
      "source": [
        "#greet your name\n",
        "name = input(\"Enter your name\")\n",
        "print(\"hello \"+name +\"!\")"
      ],
      "metadata": {
        "colab": {
          "base_uri": "https://localhost:8080/"
        },
        "id": "pIj6O6pyMWbO",
        "outputId": "0f961f9f-3474-4df2-a0b6-346afaee5e26"
      },
      "execution_count": 1,
      "outputs": [
        {
          "output_type": "stream",
          "name": "stdout",
          "text": [
            "Enter your nameTalha\n",
            "hello Talha!\n"
          ]
        }
      ]
    },
    {
      "cell_type": "code",
      "source": [
        "#Basic Input Output\n",
        "num1 = float(input(\"Enter first number: \"))\n",
        "num2 = float(input(\"Enter second number: \"))\n",
        "\n",
        "sum_result = num1 + num2\n",
        "diff_result = num1 - num2\n",
        "product_result = num1 * num2\n",
        "if num2 != 0:\n",
        "    quotient_result = num1 / num2\n",
        "else:\n",
        "    quotient_result = \"Undefined (division by zero)\"\n",
        "\n",
        "print(\"Sum:\", sum_result)\n",
        "print(\"Difference:\", diff_result)\n",
        "print(\"Product:\", product_result)\n",
        "print(\"Quotient:\", quotient_result)\n",
        "\n"
      ],
      "metadata": {
        "colab": {
          "base_uri": "https://localhost:8080/"
        },
        "id": "jXvobWCwMdG-",
        "outputId": "ebe888e3-784c-44ed-8d84-634edab44169"
      },
      "execution_count": 2,
      "outputs": [
        {
          "output_type": "stream",
          "name": "stdout",
          "text": [
            "Enter first number: 1\n",
            "Enter second number: 2\n",
            "Sum: 3.0\n",
            "Difference: -1.0\n",
            "Product: 2.0\n",
            "Quotient: 0.5\n"
          ]
        }
      ]
    },
    {
      "cell_type": "code",
      "source": [
        "#Odd and Even Checker\n",
        "number = int(input(\"Enter a number: \"))\n",
        "\n",
        "if number % 2 == 0:\n",
        "    print(f\"{number} is Even.\")\n",
        "else:\n",
        "    print(f\"{number} is Odd.\")\n"
      ],
      "metadata": {
        "colab": {
          "base_uri": "https://localhost:8080/"
        },
        "id": "ORxsO5t_UuTB",
        "outputId": "6f1cc28a-1f37-416c-bbbf-b9d3b999fab3"
      },
      "execution_count": 3,
      "outputs": [
        {
          "output_type": "stream",
          "name": "stdout",
          "text": [
            "Enter a number: 3\n",
            "3 is Odd.\n"
          ]
        }
      ]
    },
    {
      "cell_type": "code",
      "source": [
        "#List of squares\n",
        "squares = []\n",
        "\n",
        "for i in range(1, 11):\n",
        "    squares.append(i ** 2)\n",
        "\n",
        "print(\"List of squares from 1 to 10:\", squares)"
      ],
      "metadata": {
        "colab": {
          "base_uri": "https://localhost:8080/"
        },
        "id": "N1IcohXgU8Sr",
        "outputId": "8b7019f6-188a-4e9b-d2ee-78ce41d4d496"
      },
      "execution_count": 4,
      "outputs": [
        {
          "output_type": "stream",
          "name": "stdout",
          "text": [
            "List of squares from 1 to 10: [1, 4, 9, 16, 25, 36, 49, 64, 81, 100]\n"
          ]
        }
      ]
    },
    {
      "cell_type": "code",
      "source": [
        "#List of Operations\n",
        "numbers = [5, 3, 8, 1]\n",
        "\n",
        "print(\"Original list:\", numbers)\n",
        "\n",
        "numbers.append(10)\n",
        "print(\"After adding 10:\", numbers)\n",
        "\n",
        "numbers.remove(3)\n",
        "print(\"After removing 3:\", numbers)\n",
        "\n",
        "numbers.sort()\n",
        "print(\"Sorted list:\", numbers)\n"
      ],
      "metadata": {
        "id": "pdoxDaJuU3y2"
      },
      "execution_count": null,
      "outputs": []
    },
    {
      "cell_type": "code",
      "source": [
        "#Dictionary operations\n",
        "students = {\n",
        "    \"Ali\": 85,\n",
        "    \"Sara\": 90,\n",
        "    \"Ahmed\": 78\n",
        "}\n",
        "\n",
        "print(\"Original dictionary:\", students)\n",
        "\n",
        "students[\"Zara\"] = 88\n",
        "print(\"After adding Zara:\", students)\n",
        "\n",
        "students[\"Sara\"] = 95\n",
        "print(\"After updating Sara's marks:\", students)\n",
        "\n",
        "del students[\"Ahmed\"]\n",
        "print(\"After deleting Ahmed:\", students)"
      ],
      "metadata": {
        "id": "xlb4OF2vVWJa"
      },
      "execution_count": null,
      "outputs": []
    },
    {
      "cell_type": "code",
      "source": [
        "#Area Calculator\n",
        "def calculate_area(radius):\n",
        "    pi = 3.14159\n",
        "    area = pi * radius * radius\n",
        "    return area\n",
        "\n",
        "r = float(input(\"Enter the radius of the circle: \"))\n",
        "print(\"Area of the circle:\", calculate_area(r))"
      ],
      "metadata": {
        "id": "K1c6_mcRVflD"
      },
      "execution_count": null,
      "outputs": []
    },
    {
      "cell_type": "code",
      "source": [
        "#lamda Function\n",
        "add = lambda x, y: x + y\n",
        "\n",
        "num1 = int(input(\"Enter first number: \"))\n",
        "num2 = int(input(\"Enter second number: \"))\n",
        "\n",
        "print(\"Sum using lambda:\", add(num1, num2))\n"
      ],
      "metadata": {
        "id": "FRnm9daAVkUn"
      },
      "execution_count": null,
      "outputs": []
    },
    {
      "cell_type": "code",
      "source": [
        "#List Comprehension\n",
        "even_numbers = [x for x in range(1, 21) if x % 2 == 0]\n",
        "\n",
        "print(\"Even numbers from 1 to 20:\", even_numbers)\n"
      ],
      "metadata": {
        "id": "1l8E7hSsVrPe"
      },
      "execution_count": null,
      "outputs": []
    }
  ]
}